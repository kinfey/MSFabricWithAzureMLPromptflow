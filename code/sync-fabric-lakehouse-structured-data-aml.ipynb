{
 "cells": [
  {
   "cell_type": "code",
   "execution_count": 1,
   "metadata": {},
   "outputs": [
    {
     "name": "stdout",
     "output_type": "stream",
     "text": [
      "Requirement already satisfied: azure-ai-ml in /home/lokinfey/conda/envs/amlenv/lib/python3.8/site-packages (1.12.1)\n",
      "Requirement already satisfied: pyyaml<7.0.0,>=5.1.0 in /home/lokinfey/conda/envs/amlenv/lib/python3.8/site-packages (from azure-ai-ml) (6.0.1)\n",
      "Requirement already satisfied: msrest>=0.6.18 in /home/lokinfey/conda/envs/amlenv/lib/python3.8/site-packages (from azure-ai-ml) (0.7.1)\n",
      "Requirement already satisfied: azure-core<2.0.0,>=1.23.0 in /home/lokinfey/conda/envs/amlenv/lib/python3.8/site-packages (from azure-ai-ml) (1.29.5)\n",
      "Requirement already satisfied: azure-mgmt-core<2.0.0,>=1.3.0 in /home/lokinfey/conda/envs/amlenv/lib/python3.8/site-packages (from azure-ai-ml) (1.4.0)\n",
      "Requirement already satisfied: marshmallow<4.0.0,>=3.5 in /home/lokinfey/conda/envs/amlenv/lib/python3.8/site-packages (from azure-ai-ml) (3.20.1)\n",
      "Requirement already satisfied: jsonschema<5.0.0,>=4.0.0 in /home/lokinfey/conda/envs/amlenv/lib/python3.8/site-packages (from azure-ai-ml) (4.20.0)\n",
      "Requirement already satisfied: tqdm<5.0.0 in /home/lokinfey/conda/envs/amlenv/lib/python3.8/site-packages (from azure-ai-ml) (4.66.1)\n",
      "Requirement already satisfied: strictyaml<2.0.0 in /home/lokinfey/conda/envs/amlenv/lib/python3.8/site-packages (from azure-ai-ml) (1.7.3)\n",
      "Requirement already satisfied: colorama<0.5.0 in /home/lokinfey/conda/envs/amlenv/lib/python3.8/site-packages (from azure-ai-ml) (0.4.6)\n",
      "Requirement already satisfied: pyjwt<3.0.0 in /home/lokinfey/conda/envs/amlenv/lib/python3.8/site-packages (from azure-ai-ml) (2.8.0)\n",
      "Requirement already satisfied: azure-storage-blob<13.0.0,>=12.10.0 in /home/lokinfey/conda/envs/amlenv/lib/python3.8/site-packages (from azure-ai-ml) (12.19.0)\n",
      "Requirement already satisfied: azure-storage-file-share<13.0.0 in /home/lokinfey/conda/envs/amlenv/lib/python3.8/site-packages (from azure-ai-ml) (12.15.0)\n",
      "Requirement already satisfied: azure-storage-file-datalake<13.0.0 in /home/lokinfey/conda/envs/amlenv/lib/python3.8/site-packages (from azure-ai-ml) (12.14.0)\n",
      "Requirement already satisfied: pydash<7.0.6,>=6.0.0 in /home/lokinfey/conda/envs/amlenv/lib/python3.8/site-packages (from azure-ai-ml) (7.0.5)\n",
      "Requirement already satisfied: isodate in /home/lokinfey/conda/envs/amlenv/lib/python3.8/site-packages (from azure-ai-ml) (0.6.1)\n",
      "Requirement already satisfied: azure-common<2.0.0,>=1.1 in /home/lokinfey/conda/envs/amlenv/lib/python3.8/site-packages (from azure-ai-ml) (1.1.28)\n",
      "Requirement already satisfied: typing-extensions<5.0.0 in /home/lokinfey/conda/envs/amlenv/lib/python3.8/site-packages (from azure-ai-ml) (4.9.0)\n",
      "Requirement already satisfied: opencensus-ext-azure<2.0.0 in /home/lokinfey/conda/envs/amlenv/lib/python3.8/site-packages (from azure-ai-ml) (1.1.12)\n",
      "Requirement already satisfied: requests>=2.18.4 in /home/lokinfey/conda/envs/amlenv/lib/python3.8/site-packages (from azure-core<2.0.0,>=1.23.0->azure-ai-ml) (2.31.0)\n",
      "Requirement already satisfied: six>=1.11.0 in /home/lokinfey/conda/envs/amlenv/lib/python3.8/site-packages (from azure-core<2.0.0,>=1.23.0->azure-ai-ml) (1.16.0)\n",
      "Requirement already satisfied: cryptography>=2.1.4 in /home/lokinfey/conda/envs/amlenv/lib/python3.8/site-packages (from azure-storage-blob<13.0.0,>=12.10.0->azure-ai-ml) (41.0.7)\n",
      "Requirement already satisfied: attrs>=22.2.0 in /home/lokinfey/conda/envs/amlenv/lib/python3.8/site-packages (from jsonschema<5.0.0,>=4.0.0->azure-ai-ml) (23.1.0)\n",
      "Requirement already satisfied: importlib-resources>=1.4.0 in /home/lokinfey/conda/envs/amlenv/lib/python3.8/site-packages (from jsonschema<5.0.0,>=4.0.0->azure-ai-ml) (6.1.1)\n",
      "Requirement already satisfied: jsonschema-specifications>=2023.03.6 in /home/lokinfey/conda/envs/amlenv/lib/python3.8/site-packages (from jsonschema<5.0.0,>=4.0.0->azure-ai-ml) (2023.11.2)\n",
      "Requirement already satisfied: pkgutil-resolve-name>=1.3.10 in /home/lokinfey/conda/envs/amlenv/lib/python3.8/site-packages (from jsonschema<5.0.0,>=4.0.0->azure-ai-ml) (1.3.10)\n",
      "Requirement already satisfied: referencing>=0.28.4 in /home/lokinfey/conda/envs/amlenv/lib/python3.8/site-packages (from jsonschema<5.0.0,>=4.0.0->azure-ai-ml) (0.32.0)\n",
      "Requirement already satisfied: rpds-py>=0.7.1 in /home/lokinfey/conda/envs/amlenv/lib/python3.8/site-packages (from jsonschema<5.0.0,>=4.0.0->azure-ai-ml) (0.13.2)\n",
      "Requirement already satisfied: packaging>=17.0 in /home/lokinfey/conda/envs/amlenv/lib/python3.8/site-packages (from marshmallow<4.0.0,>=3.5->azure-ai-ml) (23.2)\n",
      "Requirement already satisfied: certifi>=2017.4.17 in /home/lokinfey/conda/envs/amlenv/lib/python3.8/site-packages (from msrest>=0.6.18->azure-ai-ml) (2023.11.17)\n",
      "Requirement already satisfied: requests-oauthlib>=0.5.0 in /home/lokinfey/conda/envs/amlenv/lib/python3.8/site-packages (from msrest>=0.6.18->azure-ai-ml) (1.3.1)\n",
      "Requirement already satisfied: azure-identity<2.0.0,>=1.5.0 in /home/lokinfey/conda/envs/amlenv/lib/python3.8/site-packages (from opencensus-ext-azure<2.0.0->azure-ai-ml) (1.15.0)\n",
      "Requirement already satisfied: opencensus<1.0.0,>=0.11.3 in /home/lokinfey/conda/envs/amlenv/lib/python3.8/site-packages (from opencensus-ext-azure<2.0.0->azure-ai-ml) (0.11.3)\n",
      "Requirement already satisfied: psutil>=5.6.3 in /home/lokinfey/conda/envs/amlenv/lib/python3.8/site-packages (from opencensus-ext-azure<2.0.0->azure-ai-ml) (5.9.5)\n",
      "Requirement already satisfied: python-dateutil>=2.6.0 in /home/lokinfey/conda/envs/amlenv/lib/python3.8/site-packages (from strictyaml<2.0.0->azure-ai-ml) (2.8.2)\n",
      "Requirement already satisfied: msal<2.0.0,>=1.24.0 in /home/lokinfey/conda/envs/amlenv/lib/python3.8/site-packages (from azure-identity<2.0.0,>=1.5.0->opencensus-ext-azure<2.0.0->azure-ai-ml) (1.26.0)\n",
      "Requirement already satisfied: msal-extensions<2.0.0,>=0.3.0 in /home/lokinfey/conda/envs/amlenv/lib/python3.8/site-packages (from azure-identity<2.0.0,>=1.5.0->opencensus-ext-azure<2.0.0->azure-ai-ml) (1.0.0)\n",
      "Requirement already satisfied: cffi>=1.12 in /home/lokinfey/conda/envs/amlenv/lib/python3.8/site-packages (from cryptography>=2.1.4->azure-storage-blob<13.0.0,>=12.10.0->azure-ai-ml) (1.16.0)\n",
      "Requirement already satisfied: zipp>=3.1.0 in /home/lokinfey/conda/envs/amlenv/lib/python3.8/site-packages (from importlib-resources>=1.4.0->jsonschema<5.0.0,>=4.0.0->azure-ai-ml) (3.17.0)\n",
      "Requirement already satisfied: opencensus-context>=0.1.3 in /home/lokinfey/conda/envs/amlenv/lib/python3.8/site-packages (from opencensus<1.0.0,>=0.11.3->opencensus-ext-azure<2.0.0->azure-ai-ml) (0.1.3)\n",
      "Requirement already satisfied: google-api-core<3.0.0,>=1.0.0 in /home/lokinfey/conda/envs/amlenv/lib/python3.8/site-packages (from opencensus<1.0.0,>=0.11.3->opencensus-ext-azure<2.0.0->azure-ai-ml) (2.15.0)\n",
      "Requirement already satisfied: charset-normalizer<4,>=2 in /home/lokinfey/conda/envs/amlenv/lib/python3.8/site-packages (from requests>=2.18.4->azure-core<2.0.0,>=1.23.0->azure-ai-ml) (3.3.2)\n",
      "Requirement already satisfied: idna<4,>=2.5 in /home/lokinfey/conda/envs/amlenv/lib/python3.8/site-packages (from requests>=2.18.4->azure-core<2.0.0,>=1.23.0->azure-ai-ml) (3.6)\n",
      "Requirement already satisfied: urllib3<3,>=1.21.1 in /home/lokinfey/conda/envs/amlenv/lib/python3.8/site-packages (from requests>=2.18.4->azure-core<2.0.0,>=1.23.0->azure-ai-ml) (2.1.0)\n",
      "Requirement already satisfied: oauthlib>=3.0.0 in /home/lokinfey/conda/envs/amlenv/lib/python3.8/site-packages (from requests-oauthlib>=0.5.0->msrest>=0.6.18->azure-ai-ml) (3.2.2)\n",
      "Requirement already satisfied: pycparser in /home/lokinfey/conda/envs/amlenv/lib/python3.8/site-packages (from cffi>=1.12->cryptography>=2.1.4->azure-storage-blob<13.0.0,>=12.10.0->azure-ai-ml) (2.21)\n",
      "Requirement already satisfied: googleapis-common-protos<2.0.dev0,>=1.56.2 in /home/lokinfey/conda/envs/amlenv/lib/python3.8/site-packages (from google-api-core<3.0.0,>=1.0.0->opencensus<1.0.0,>=0.11.3->opencensus-ext-azure<2.0.0->azure-ai-ml) (1.62.0)\n",
      "Requirement already satisfied: protobuf!=3.20.0,!=3.20.1,!=4.21.0,!=4.21.1,!=4.21.2,!=4.21.3,!=4.21.4,!=4.21.5,<5.0.0.dev0,>=3.19.5 in /home/lokinfey/conda/envs/amlenv/lib/python3.8/site-packages (from google-api-core<3.0.0,>=1.0.0->opencensus<1.0.0,>=0.11.3->opencensus-ext-azure<2.0.0->azure-ai-ml) (4.25.1)\n",
      "Requirement already satisfied: google-auth<3.0.dev0,>=2.14.1 in /home/lokinfey/conda/envs/amlenv/lib/python3.8/site-packages (from google-api-core<3.0.0,>=1.0.0->opencensus<1.0.0,>=0.11.3->opencensus-ext-azure<2.0.0->azure-ai-ml) (2.25.2)\n",
      "Requirement already satisfied: portalocker<3,>=1.0 in /home/lokinfey/conda/envs/amlenv/lib/python3.8/site-packages (from msal-extensions<2.0.0,>=0.3.0->azure-identity<2.0.0,>=1.5.0->opencensus-ext-azure<2.0.0->azure-ai-ml) (2.8.2)\n",
      "Requirement already satisfied: cachetools<6.0,>=2.0.0 in /home/lokinfey/conda/envs/amlenv/lib/python3.8/site-packages (from google-auth<3.0.dev0,>=2.14.1->google-api-core<3.0.0,>=1.0.0->opencensus<1.0.0,>=0.11.3->opencensus-ext-azure<2.0.0->azure-ai-ml) (5.3.2)\n",
      "Requirement already satisfied: pyasn1-modules>=0.2.1 in /home/lokinfey/conda/envs/amlenv/lib/python3.8/site-packages (from google-auth<3.0.dev0,>=2.14.1->google-api-core<3.0.0,>=1.0.0->opencensus<1.0.0,>=0.11.3->opencensus-ext-azure<2.0.0->azure-ai-ml) (0.3.0)\n",
      "Requirement already satisfied: rsa<5,>=3.1.4 in /home/lokinfey/conda/envs/amlenv/lib/python3.8/site-packages (from google-auth<3.0.dev0,>=2.14.1->google-api-core<3.0.0,>=1.0.0->opencensus<1.0.0,>=0.11.3->opencensus-ext-azure<2.0.0->azure-ai-ml) (4.9)\n",
      "Requirement already satisfied: pyasn1<0.6.0,>=0.4.6 in /home/lokinfey/conda/envs/amlenv/lib/python3.8/site-packages (from pyasn1-modules>=0.2.1->google-auth<3.0.dev0,>=2.14.1->google-api-core<3.0.0,>=1.0.0->opencensus<1.0.0,>=0.11.3->opencensus-ext-azure<2.0.0->azure-ai-ml) (0.5.1)\n",
      "zsh:1: no matches found: azureml-dataprep[pandas]\n",
      "Requirement already satisfied: azureml-fsspec in /home/lokinfey/conda/envs/amlenv/lib/python3.8/site-packages (1.2.0)\n",
      "Requirement already satisfied: azureml-dataprep<4.14.0a,>=4.12.0a in /home/lokinfey/conda/envs/amlenv/lib/python3.8/site-packages (from azureml-fsspec) (4.12.7)\n",
      "Requirement already satisfied: fsspec>=2021.6.1 in /home/lokinfey/conda/envs/amlenv/lib/python3.8/site-packages (from azureml-fsspec) (2023.12.2)\n",
      "Requirement already satisfied: dotnetcore2<4.0.0,>=3.0.0 in /home/lokinfey/conda/envs/amlenv/lib/python3.8/site-packages (from azureml-dataprep<4.14.0a,>=4.12.0a->azureml-fsspec) (3.1.23)\n",
      "Requirement already satisfied: azureml-dataprep-native<39.0.0,>=38.0.0 in /home/lokinfey/conda/envs/amlenv/lib/python3.8/site-packages (from azureml-dataprep<4.14.0a,>=4.12.0a->azureml-fsspec) (38.0.0)\n",
      "Requirement already satisfied: azureml-dataprep-rslex~=2.19.6dev0 in /home/lokinfey/conda/envs/amlenv/lib/python3.8/site-packages (from azureml-dataprep<4.14.0a,>=4.12.0a->azureml-fsspec) (2.19.6)\n",
      "Requirement already satisfied: cloudpickle<3.0.0,>=1.1.0 in /home/lokinfey/conda/envs/amlenv/lib/python3.8/site-packages (from azureml-dataprep<4.14.0a,>=4.12.0a->azureml-fsspec) (2.2.1)\n",
      "Requirement already satisfied: azure-identity>=1.7.0 in /home/lokinfey/conda/envs/amlenv/lib/python3.8/site-packages (from azureml-dataprep<4.14.0a,>=4.12.0a->azureml-fsspec) (1.15.0)\n",
      "Requirement already satisfied: jsonschema in /home/lokinfey/conda/envs/amlenv/lib/python3.8/site-packages (from azureml-dataprep<4.14.0a,>=4.12.0a->azureml-fsspec) (4.20.0)\n",
      "Requirement already satisfied: pyyaml<7.0.0,>=5.1.0 in /home/lokinfey/conda/envs/amlenv/lib/python3.8/site-packages (from azureml-dataprep<4.14.0a,>=4.12.0a->azureml-fsspec) (6.0.1)\n",
      "Requirement already satisfied: azure-core<2.0.0,>=1.23.0 in /home/lokinfey/conda/envs/amlenv/lib/python3.8/site-packages (from azure-identity>=1.7.0->azureml-dataprep<4.14.0a,>=4.12.0a->azureml-fsspec) (1.29.5)\n",
      "Requirement already satisfied: cryptography>=2.5 in /home/lokinfey/conda/envs/amlenv/lib/python3.8/site-packages (from azure-identity>=1.7.0->azureml-dataprep<4.14.0a,>=4.12.0a->azureml-fsspec) (41.0.7)\n",
      "Requirement already satisfied: msal<2.0.0,>=1.24.0 in /home/lokinfey/conda/envs/amlenv/lib/python3.8/site-packages (from azure-identity>=1.7.0->azureml-dataprep<4.14.0a,>=4.12.0a->azureml-fsspec) (1.26.0)\n",
      "Requirement already satisfied: msal-extensions<2.0.0,>=0.3.0 in /home/lokinfey/conda/envs/amlenv/lib/python3.8/site-packages (from azure-identity>=1.7.0->azureml-dataprep<4.14.0a,>=4.12.0a->azureml-fsspec) (1.0.0)\n",
      "Requirement already satisfied: distro>=1.2.0 in /home/lokinfey/conda/envs/amlenv/lib/python3.8/site-packages (from dotnetcore2<4.0.0,>=3.0.0->azureml-dataprep<4.14.0a,>=4.12.0a->azureml-fsspec) (1.8.0)\n",
      "Requirement already satisfied: attrs>=22.2.0 in /home/lokinfey/conda/envs/amlenv/lib/python3.8/site-packages (from jsonschema->azureml-dataprep<4.14.0a,>=4.12.0a->azureml-fsspec) (23.1.0)\n",
      "Requirement already satisfied: importlib-resources>=1.4.0 in /home/lokinfey/conda/envs/amlenv/lib/python3.8/site-packages (from jsonschema->azureml-dataprep<4.14.0a,>=4.12.0a->azureml-fsspec) (6.1.1)\n",
      "Requirement already satisfied: jsonschema-specifications>=2023.03.6 in /home/lokinfey/conda/envs/amlenv/lib/python3.8/site-packages (from jsonschema->azureml-dataprep<4.14.0a,>=4.12.0a->azureml-fsspec) (2023.11.2)\n",
      "Requirement already satisfied: pkgutil-resolve-name>=1.3.10 in /home/lokinfey/conda/envs/amlenv/lib/python3.8/site-packages (from jsonschema->azureml-dataprep<4.14.0a,>=4.12.0a->azureml-fsspec) (1.3.10)\n",
      "Requirement already satisfied: referencing>=0.28.4 in /home/lokinfey/conda/envs/amlenv/lib/python3.8/site-packages (from jsonschema->azureml-dataprep<4.14.0a,>=4.12.0a->azureml-fsspec) (0.32.0)\n",
      "Requirement already satisfied: rpds-py>=0.7.1 in /home/lokinfey/conda/envs/amlenv/lib/python3.8/site-packages (from jsonschema->azureml-dataprep<4.14.0a,>=4.12.0a->azureml-fsspec) (0.13.2)\n",
      "Requirement already satisfied: requests>=2.18.4 in /home/lokinfey/conda/envs/amlenv/lib/python3.8/site-packages (from azure-core<2.0.0,>=1.23.0->azure-identity>=1.7.0->azureml-dataprep<4.14.0a,>=4.12.0a->azureml-fsspec) (2.31.0)\n",
      "Requirement already satisfied: six>=1.11.0 in /home/lokinfey/conda/envs/amlenv/lib/python3.8/site-packages (from azure-core<2.0.0,>=1.23.0->azure-identity>=1.7.0->azureml-dataprep<4.14.0a,>=4.12.0a->azureml-fsspec) (1.16.0)\n",
      "Requirement already satisfied: typing-extensions>=4.6.0 in /home/lokinfey/conda/envs/amlenv/lib/python3.8/site-packages (from azure-core<2.0.0,>=1.23.0->azure-identity>=1.7.0->azureml-dataprep<4.14.0a,>=4.12.0a->azureml-fsspec) (4.9.0)\n",
      "Requirement already satisfied: cffi>=1.12 in /home/lokinfey/conda/envs/amlenv/lib/python3.8/site-packages (from cryptography>=2.5->azure-identity>=1.7.0->azureml-dataprep<4.14.0a,>=4.12.0a->azureml-fsspec) (1.16.0)\n",
      "Requirement already satisfied: zipp>=3.1.0 in /home/lokinfey/conda/envs/amlenv/lib/python3.8/site-packages (from importlib-resources>=1.4.0->jsonschema->azureml-dataprep<4.14.0a,>=4.12.0a->azureml-fsspec) (3.17.0)\n",
      "Requirement already satisfied: PyJWT<3,>=1.0.0 in /home/lokinfey/conda/envs/amlenv/lib/python3.8/site-packages (from PyJWT[crypto]<3,>=1.0.0->msal<2.0.0,>=1.24.0->azure-identity>=1.7.0->azureml-dataprep<4.14.0a,>=4.12.0a->azureml-fsspec) (2.8.0)\n",
      "Requirement already satisfied: portalocker<3,>=1.0 in /home/lokinfey/conda/envs/amlenv/lib/python3.8/site-packages (from msal-extensions<2.0.0,>=0.3.0->azure-identity>=1.7.0->azureml-dataprep<4.14.0a,>=4.12.0a->azureml-fsspec) (2.8.2)\n",
      "Requirement already satisfied: pycparser in /home/lokinfey/conda/envs/amlenv/lib/python3.8/site-packages (from cffi>=1.12->cryptography>=2.5->azure-identity>=1.7.0->azureml-dataprep<4.14.0a,>=4.12.0a->azureml-fsspec) (2.21)\n",
      "Requirement already satisfied: charset-normalizer<4,>=2 in /home/lokinfey/conda/envs/amlenv/lib/python3.8/site-packages (from requests>=2.18.4->azure-core<2.0.0,>=1.23.0->azure-identity>=1.7.0->azureml-dataprep<4.14.0a,>=4.12.0a->azureml-fsspec) (3.3.2)\n",
      "Requirement already satisfied: idna<4,>=2.5 in /home/lokinfey/conda/envs/amlenv/lib/python3.8/site-packages (from requests>=2.18.4->azure-core<2.0.0,>=1.23.0->azure-identity>=1.7.0->azureml-dataprep<4.14.0a,>=4.12.0a->azureml-fsspec) (3.6)\n",
      "Requirement already satisfied: urllib3<3,>=1.21.1 in /home/lokinfey/conda/envs/amlenv/lib/python3.8/site-packages (from requests>=2.18.4->azure-core<2.0.0,>=1.23.0->azure-identity>=1.7.0->azureml-dataprep<4.14.0a,>=4.12.0a->azureml-fsspec) (2.1.0)\n",
      "Requirement already satisfied: certifi>=2017.4.17 in /home/lokinfey/conda/envs/amlenv/lib/python3.8/site-packages (from requests>=2.18.4->azure-core<2.0.0,>=1.23.0->azure-identity>=1.7.0->azureml-dataprep<4.14.0a,>=4.12.0a->azureml-fsspec) (2023.11.17)\n"
     ]
    }
   ],
   "source": [
    "! pip install azure-ai-ml -U \n",
    "! pip install mltable azureml-dataprep[pandas] -U \n",
    "! pip install azureml-fsspec -U"
   ]
  },
  {
   "cell_type": "code",
   "execution_count": 2,
   "metadata": {},
   "outputs": [],
   "source": [
    "from azure.ai.ml import MLClient\n",
    "from azure.identity import DefaultAzureCredential"
   ]
  },
  {
   "cell_type": "code",
   "execution_count": 3,
   "metadata": {},
   "outputs": [],
   "source": [
    "subscription_id = \"Your Azure Subscription ID\" \n",
    "resource_group = \"Your Azure Machine Learning Service Workspace Resource Group\" \n",
    "workspace = \"Your Azure Machine Learning Service Workspace Name\""
   ]
  },
  {
   "cell_type": "code",
   "execution_count": 4,
   "metadata": {},
   "outputs": [],
   "source": [
    "ml_client = MLClient(\n",
    "    DefaultAzureCredential(), subscription_id, resource_group, workspace\n",
    ")"
   ]
  },
  {
   "cell_type": "code",
   "execution_count": 5,
   "metadata": {},
   "outputs": [],
   "source": [
    "from azure.ai.ml.entities import OneLakeDatastore, OneLakeArtifact"
   ]
  },
  {
   "cell_type": "code",
   "execution_count": 6,
   "metadata": {},
   "outputs": [
    {
     "name": "stderr",
     "output_type": "stream",
     "text": [
      "Class OneLakeArtifact: This is an experimental class, and may change at any time. Please see https://aka.ms/azuremlexperimental for more information.\n",
      "Class OneLakeDatastore: This is an experimental class, and may change at any time. Please see https://aka.ms/azuremlexperimental for more information.\n"
     ]
    }
   ],
   "source": [
    "artifact = OneLakeArtifact(\n",
    "    name=<Lakehouse ID>, \n",
    "    type=\"lake_house\"\n",
    ")\n",
    "store = OneLakeDatastore(\n",
    "    name=\"onelake_lh_for_azureml\",\n",
    "    description=\"Credential-less OneLake datastore.\",\n",
    "    endpoint=\"msit-onelake.dfs.fabric.microsoft.com\",\n",
    "    artifact=artifact,\n",
    "    one_lake_workspace_name=<One Lake workspace name>,\n",
    ")"
   ]
  },
  {
   "cell_type": "code",
   "execution_count": 7,
   "metadata": {},
   "outputs": [
    {
     "data": {
      "text/plain": [
       "OneLakeDatastore({'type': <DatastoreType.ONE_LAKE: 'OneLake'>, 'name': 'onelake_lh_for_azureml', 'description': 'Credential-less OneLake datastore.', 'tags': {}, 'properties': {}, 'print_as_yaml': True, 'id': '/subscriptions/901e11c6-42ed-4fcc-875a-6bd77390af5b/resourceGroups/AIGroup/providers/Microsoft.MachineLearningServices/workspaces/KinfeyAOAIWS/datastores/onelake_lh_for_azureml', 'Resource__source_path': None, 'base_path': '/home/lokinfey/Dev/Code/AOAI/FabricWithAzureML', 'creation_context': None, 'serialize': <msrest.serialization.Serializer object at 0x7feab7517a00>, 'credentials': <azure.ai.ml.entities._credentials.NoneCredentialConfiguration object at 0x7feab75178b0>, 'artifact': {'name': 'db6d5797-6c48-4318-abe2-eaaa14ff4136', 'type': 'lake_house'}, 'one_lake_workspace_name': 'c162308d-0437-46b9-9db0-1a28ae4fc460', 'endpoint': 'msit-onelake.dfs.fabric.microsoft.com'})"
      ]
     },
     "execution_count": 7,
     "metadata": {},
     "output_type": "execute_result"
    }
   ],
   "source": [
    "ml_client.create_or_update(store)"
   ]
  },
  {
   "cell_type": "code",
   "execution_count": 10,
   "metadata": {},
   "outputs": [],
   "source": [
    "from azure.ai.ml.constants import AssetTypes, InputOutputModes\n",
    "from azureml.fsspec import AzureMachineLearningFileSystem"
   ]
  },
  {
   "cell_type": "code",
   "execution_count": 11,
   "metadata": {},
   "outputs": [],
   "source": [
    "uri = 'azureml://subscriptions/<Your Azure Subscription ID >/resourcegroups/<Your Azure Machine Learning Service Resource Group>/workspaces/<Your Azure Machine Learning Service Workspace Name>/datastores/onelake_lh_for_azureml'\n",
    "\n",
    "# create the filesystem\n",
    "fs = AzureMachineLearningFileSystem(uri)"
   ]
  },
  {
   "cell_type": "code",
   "execution_count": 12,
   "metadata": {},
   "outputs": [
    {
     "name": "stderr",
     "output_type": "stream",
     "text": [
      "Warning: Falling back to use azure cli login credentials.\n",
      "If you run your code in unattended mode, i.e., where you can't give a user input, then we recommend to use ServicePrincipalAuthentication or MsiAuthentication.\n",
      "Please refer to aka.ms/aml-notebook-auth for different authentication mechanisms in azureml-sdk.\n"
     ]
    },
    {
     "name": "stdout",
     "output_type": "stream",
     "text": [
      "Resolving access token for scope \"https://storage.azure.com/.default\" using identity of type \"USER\".\n"
     ]
    },
    {
     "data": {
      "text/plain": [
       "['Files', 'TableMaintenance', 'Tables']"
      ]
     },
     "execution_count": 12,
     "metadata": {},
     "output_type": "execute_result"
    }
   ],
   "source": [
    "fs.ls()"
   ]
  },
  {
   "cell_type": "code",
   "execution_count": 14,
   "metadata": {},
   "outputs": [
    {
     "name": "stdout",
     "output_type": "stream",
     "text": [
      "[b'SalesOrderNumber,SalesOrderLineNumber,OrderDate,CustomerName,EmailAddress,Item,Quantity,UnitPrice,TaxAmount\\r\\n', b'SO43701,1,2019-07-01,Christy Zhu,christy12@adventure-works.com,\"Mountain-100 Silver, 44\",1,3399.99,271.9992\\r\\n', b'SO43704,1,2019-07-01,Julio Ruiz,julio1@adventure-works.com,\"Mountain-100 Black, 48\",1,3374.99,269.9992\\r\\n', b'SO43705,1,2019-07-01,Curtis Lu,curtis9@adventure-works.com,\"Mountain-100 Silver, 38\",1,3399.99,271.9992\\r\\n', b'SO43700,1,2019-07-01,Ruben Prasad,ruben10@adventure-works.com,\"Road-650 Black, 62\",1,699.0982,55.9279\\r\\n']\n"
     ]
    }
   ],
   "source": [
    "with fs.open('Files/csv/sales.csv') as f:\n",
    "    data = f.readlines()\n",
    "    print(data[0:5])\n",
    "    f.close()"
   ]
  },
  {
   "cell_type": "code",
   "execution_count": 15,
   "metadata": {},
   "outputs": [],
   "source": [
    "\n",
    "from azure.ai.ml.entities import Data"
   ]
  },
  {
   "cell_type": "code",
   "execution_count": 16,
   "metadata": {},
   "outputs": [
    {
     "data": {
      "text/plain": [
       "Data({'skip_validation': False, 'mltable_schema_url': None, 'referenced_uris': None, 'type': 'uri_folder', 'is_anonymous': False, 'auto_increment_version': False, 'auto_delete_setting': None, 'name': 'csv_data_source', 'description': 'demo', 'tags': {}, 'properties': {}, 'print_as_yaml': True, 'id': '/subscriptions/901e11c6-42ed-4fcc-875a-6bd77390af5b/resourceGroups/AIGroup/providers/Microsoft.MachineLearningServices/workspaces/KinfeyAOAIWS/data/csv_data_source/versions/1.0.0', 'Resource__source_path': None, 'base_path': '/home/lokinfey/Dev/Code/AOAI/FabricWithAzureML', 'creation_context': <azure.ai.ml.entities._system_data.SystemData object at 0x7feac99a0e80>, 'serialize': <msrest.serialization.Serializer object at 0x7feab69e8fd0>, 'version': '1.0.0', 'latest_version': None, 'path': 'azureml://subscriptions/901e11c6-42ed-4fcc-875a-6bd77390af5b/resourcegroups/AIGroup/workspaces/KinfeyAOAIWS/datastores/onelake_lh_for_azureml/paths/Files/csv/', 'datastore': None})"
      ]
     },
     "execution_count": 16,
     "metadata": {},
     "output_type": "execute_result"
    }
   ],
   "source": [
    "csv_path = 'azureml://datastores/onelake_lh_for_azureml/paths/Files/csv'\n",
    "my_csv_data = Data(\n",
    "        path=csv_path,\n",
    "        type=AssetTypes.URI_FOLDER,\n",
    "        description=\"demo\",\n",
    "        name=\"csv_data_source\",\n",
    "        version=\"1.0.0\"\n",
    ")\n",
    "\n",
    "ml_client.data.create_or_update(my_csv_data)"
   ]
  },
  {
   "cell_type": "code",
   "execution_count": 17,
   "metadata": {},
   "outputs": [],
   "source": [
    "import pandas as pd"
   ]
  },
  {
   "cell_type": "code",
   "execution_count": 18,
   "metadata": {},
   "outputs": [],
   "source": [
    "csv_data = ml_client.data.get(\"csv_data_source\", version=\"1.0.0\")\n"
   ]
  },
  {
   "cell_type": "code",
   "execution_count": 19,
   "metadata": {},
   "outputs": [],
   "source": [
    "import mltable"
   ]
  },
  {
   "cell_type": "code",
   "execution_count": 20,
   "metadata": {},
   "outputs": [],
   "source": [
    "\n",
    "path = {\n",
    "  'folder': csv_data.path\n",
    "}\n",
    "\n",
    "tbl = mltable.from_delimited_files(paths=[path])"
   ]
  },
  {
   "cell_type": "code",
   "execution_count": 22,
   "metadata": {},
   "outputs": [],
   "source": [
    "df = pd.read_csv( csv_data.path + '/sales.csv')"
   ]
  },
  {
   "cell_type": "code",
   "execution_count": 23,
   "metadata": {},
   "outputs": [
    {
     "data": {
      "text/html": [
       "<div>\n",
       "<style scoped>\n",
       "    .dataframe tbody tr th:only-of-type {\n",
       "        vertical-align: middle;\n",
       "    }\n",
       "\n",
       "    .dataframe tbody tr th {\n",
       "        vertical-align: top;\n",
       "    }\n",
       "\n",
       "    .dataframe thead th {\n",
       "        text-align: right;\n",
       "    }\n",
       "</style>\n",
       "<table border=\"1\" class=\"dataframe\">\n",
       "  <thead>\n",
       "    <tr style=\"text-align: right;\">\n",
       "      <th></th>\n",
       "      <th>SalesOrderNumber</th>\n",
       "      <th>SalesOrderLineNumber</th>\n",
       "      <th>OrderDate</th>\n",
       "      <th>CustomerName</th>\n",
       "      <th>EmailAddress</th>\n",
       "      <th>Item</th>\n",
       "      <th>Quantity</th>\n",
       "      <th>UnitPrice</th>\n",
       "      <th>TaxAmount</th>\n",
       "    </tr>\n",
       "  </thead>\n",
       "  <tbody>\n",
       "    <tr>\n",
       "      <th>0</th>\n",
       "      <td>SO43701</td>\n",
       "      <td>1</td>\n",
       "      <td>2019-07-01</td>\n",
       "      <td>Christy Zhu</td>\n",
       "      <td>christy12@adventure-works.com</td>\n",
       "      <td>Mountain-100 Silver, 44</td>\n",
       "      <td>1</td>\n",
       "      <td>3399.9900</td>\n",
       "      <td>271.9992</td>\n",
       "    </tr>\n",
       "    <tr>\n",
       "      <th>1</th>\n",
       "      <td>SO43704</td>\n",
       "      <td>1</td>\n",
       "      <td>2019-07-01</td>\n",
       "      <td>Julio Ruiz</td>\n",
       "      <td>julio1@adventure-works.com</td>\n",
       "      <td>Mountain-100 Black, 48</td>\n",
       "      <td>1</td>\n",
       "      <td>3374.9900</td>\n",
       "      <td>269.9992</td>\n",
       "    </tr>\n",
       "    <tr>\n",
       "      <th>2</th>\n",
       "      <td>SO43705</td>\n",
       "      <td>1</td>\n",
       "      <td>2019-07-01</td>\n",
       "      <td>Curtis Lu</td>\n",
       "      <td>curtis9@adventure-works.com</td>\n",
       "      <td>Mountain-100 Silver, 38</td>\n",
       "      <td>1</td>\n",
       "      <td>3399.9900</td>\n",
       "      <td>271.9992</td>\n",
       "    </tr>\n",
       "    <tr>\n",
       "      <th>3</th>\n",
       "      <td>SO43700</td>\n",
       "      <td>1</td>\n",
       "      <td>2019-07-01</td>\n",
       "      <td>Ruben Prasad</td>\n",
       "      <td>ruben10@adventure-works.com</td>\n",
       "      <td>Road-650 Black, 62</td>\n",
       "      <td>1</td>\n",
       "      <td>699.0982</td>\n",
       "      <td>55.9279</td>\n",
       "    </tr>\n",
       "    <tr>\n",
       "      <th>4</th>\n",
       "      <td>SO43703</td>\n",
       "      <td>1</td>\n",
       "      <td>2019-07-01</td>\n",
       "      <td>Albert Alvarez</td>\n",
       "      <td>albert7@adventure-works.com</td>\n",
       "      <td>Road-150 Red, 62</td>\n",
       "      <td>1</td>\n",
       "      <td>3578.2700</td>\n",
       "      <td>286.2616</td>\n",
       "    </tr>\n",
       "    <tr>\n",
       "      <th>...</th>\n",
       "      <td>...</td>\n",
       "      <td>...</td>\n",
       "      <td>...</td>\n",
       "      <td>...</td>\n",
       "      <td>...</td>\n",
       "      <td>...</td>\n",
       "      <td>...</td>\n",
       "      <td>...</td>\n",
       "      <td>...</td>\n",
       "    </tr>\n",
       "    <tr>\n",
       "      <th>32713</th>\n",
       "      <td>SO63093</td>\n",
       "      <td>2</td>\n",
       "      <td>2021-12-31</td>\n",
       "      <td>Rebekah Martin</td>\n",
       "      <td>rebekah20@adventure-works.com</td>\n",
       "      <td>Patch Kit/8 Patches</td>\n",
       "      <td>1</td>\n",
       "      <td>2.2900</td>\n",
       "      <td>0.1832</td>\n",
       "    </tr>\n",
       "    <tr>\n",
       "      <th>32714</th>\n",
       "      <td>SO63113</td>\n",
       "      <td>1</td>\n",
       "      <td>2021-12-31</td>\n",
       "      <td>Carolyn Alonso</td>\n",
       "      <td>carolyn29@adventure-works.com</td>\n",
       "      <td>Road-550-W Yellow, 48</td>\n",
       "      <td>1</td>\n",
       "      <td>1120.4900</td>\n",
       "      <td>89.6392</td>\n",
       "    </tr>\n",
       "    <tr>\n",
       "      <th>32715</th>\n",
       "      <td>SO63113</td>\n",
       "      <td>2</td>\n",
       "      <td>2021-12-31</td>\n",
       "      <td>Carolyn Alonso</td>\n",
       "      <td>carolyn29@adventure-works.com</td>\n",
       "      <td>Short-Sleeve Classic Jersey, S</td>\n",
       "      <td>1</td>\n",
       "      <td>53.9900</td>\n",
       "      <td>4.3192</td>\n",
       "    </tr>\n",
       "    <tr>\n",
       "      <th>32716</th>\n",
       "      <td>SO63066</td>\n",
       "      <td>1</td>\n",
       "      <td>2021-12-31</td>\n",
       "      <td>Teresa Navarro</td>\n",
       "      <td>teresa10@adventure-works.com</td>\n",
       "      <td>Mountain Tire Tube</td>\n",
       "      <td>1</td>\n",
       "      <td>4.9900</td>\n",
       "      <td>0.3992</td>\n",
       "    </tr>\n",
       "    <tr>\n",
       "      <th>32717</th>\n",
       "      <td>SO63066</td>\n",
       "      <td>2</td>\n",
       "      <td>2021-12-31</td>\n",
       "      <td>Teresa Navarro</td>\n",
       "      <td>teresa10@adventure-works.com</td>\n",
       "      <td>Patch Kit/8 Patches</td>\n",
       "      <td>1</td>\n",
       "      <td>2.2900</td>\n",
       "      <td>0.1832</td>\n",
       "    </tr>\n",
       "  </tbody>\n",
       "</table>\n",
       "<p>32718 rows × 9 columns</p>\n",
       "</div>"
      ],
      "text/plain": [
       "      SalesOrderNumber  SalesOrderLineNumber   OrderDate    CustomerName  \\\n",
       "0              SO43701                     1  2019-07-01     Christy Zhu   \n",
       "1              SO43704                     1  2019-07-01      Julio Ruiz   \n",
       "2              SO43705                     1  2019-07-01       Curtis Lu   \n",
       "3              SO43700                     1  2019-07-01    Ruben Prasad   \n",
       "4              SO43703                     1  2019-07-01  Albert Alvarez   \n",
       "...                ...                   ...         ...             ...   \n",
       "32713          SO63093                     2  2021-12-31  Rebekah Martin   \n",
       "32714          SO63113                     1  2021-12-31  Carolyn Alonso   \n",
       "32715          SO63113                     2  2021-12-31  Carolyn Alonso   \n",
       "32716          SO63066                     1  2021-12-31  Teresa Navarro   \n",
       "32717          SO63066                     2  2021-12-31  Teresa Navarro   \n",
       "\n",
       "                        EmailAddress                            Item  \\\n",
       "0      christy12@adventure-works.com         Mountain-100 Silver, 44   \n",
       "1         julio1@adventure-works.com          Mountain-100 Black, 48   \n",
       "2        curtis9@adventure-works.com         Mountain-100 Silver, 38   \n",
       "3        ruben10@adventure-works.com              Road-650 Black, 62   \n",
       "4        albert7@adventure-works.com                Road-150 Red, 62   \n",
       "...                              ...                             ...   \n",
       "32713  rebekah20@adventure-works.com             Patch Kit/8 Patches   \n",
       "32714  carolyn29@adventure-works.com           Road-550-W Yellow, 48   \n",
       "32715  carolyn29@adventure-works.com  Short-Sleeve Classic Jersey, S   \n",
       "32716   teresa10@adventure-works.com              Mountain Tire Tube   \n",
       "32717   teresa10@adventure-works.com             Patch Kit/8 Patches   \n",
       "\n",
       "       Quantity  UnitPrice  TaxAmount  \n",
       "0             1  3399.9900   271.9992  \n",
       "1             1  3374.9900   269.9992  \n",
       "2             1  3399.9900   271.9992  \n",
       "3             1   699.0982    55.9279  \n",
       "4             1  3578.2700   286.2616  \n",
       "...         ...        ...        ...  \n",
       "32713         1     2.2900     0.1832  \n",
       "32714         1  1120.4900    89.6392  \n",
       "32715         1    53.9900     4.3192  \n",
       "32716         1     4.9900     0.3992  \n",
       "32717         1     2.2900     0.1832  \n",
       "\n",
       "[32718 rows x 9 columns]"
      ]
     },
     "execution_count": 23,
     "metadata": {},
     "output_type": "execute_result"
    }
   ],
   "source": [
    "df"
   ]
  }
 ],
 "metadata": {
  "kernelspec": {
   "display_name": "amlenv",
   "language": "python",
   "name": "python3"
  },
  "language_info": {
   "codemirror_mode": {
    "name": "ipython",
    "version": 3
   },
   "file_extension": ".py",
   "mimetype": "text/x-python",
   "name": "python",
   "nbconvert_exporter": "python",
   "pygments_lexer": "ipython3",
   "version": "3.8.12"
  }
 },
 "nbformat": 4,
 "nbformat_minor": 2
}
